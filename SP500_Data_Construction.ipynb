{
 "cells": [
  {
   "cell_type": "markdown",
   "id": "28e258aa",
   "metadata": {},
   "source": [
    "# S&P 500 Historical Ticker Dataset with Delisted Companies\n",
    "\n",
    "This notebook constructs a sample portfolio of S&P 500 consituents, including a proportional sample of delisted constituents. The aim is to allow for financial modeling and backtesting using a sample portfolio that mitigates survivorship bias without requiring curated portfolio construction.\n",
    "\n",
    "Constituent data is sourced from the dataset made available at: [`fja05680/SP500`](https://github.com/fja05680/SP500) and price data is fetched using the 'yfinance' library."
   ]
  },
  {
   "cell_type": "code",
   "execution_count": null,
   "id": "73660f63",
   "metadata": {},
   "outputs": [],
   "source": [
    "import pandas as pd\n",
    "import yfinance as yf\n",
    "from datetime import datetime\n",
    "from pathlib import Path\n",
    "from time import sleep\n"
   ]
  },
  {
   "cell_type": "markdown",
   "id": "0de7cab1",
   "metadata": {},
   "source": [
    "### Load Historical S&P 500 Ticker Data"
   ]
  },
  {
   "cell_type": "code",
   "execution_count": null,
   "id": "d338eb85",
   "metadata": {},
   "outputs": [],
   "source": [
    "# Load your dataset (update path as needed)\n",
    "csv_path = Path(\"Data/S&P 500 Historical Components & Changes(12-10-2024.csv\")\n",
    "sp500_constituents = pd.read_csv(csv_path)\n",
    "sp500_constituents['date'] = pd.to_datetime(sp500_constituents['date'])"
   ]
  },
  {
   "cell_type": "markdown",
   "id": "513f78e0",
   "metadata": {},
   "source": [
    "### Filter Relevant Time Period and Extract Tickers"
   ]
  },
  {
   "cell_type": "code",
   "execution_count": null,
   "id": "f1e4678e",
   "metadata": {},
   "outputs": [],
   "source": [
    "# Set study period\n",
    "start_date = pd.to_datetime(\"2002-12-31\")\n",
    "end_date = pd.to_datetime(\"2023-01-01\")\n",
    "\n",
    "# Filter dataset within date range\n",
    "filtered = sp500_constituents[\n",
    "    (sp500_constituents['date'] >= start_date) & \n",
    "    (sp500_constituents['date'] <= end_date)\n",
    "].copy()\n",
    "\n",
    "# Extract and deduplicate tickers\n",
    "filtered['tickers'] = filtered['tickers'].apply(lambda x: str(x).split(','))\n",
    "all_tickers = set(ticker.strip() for tickers in filtered['tickers'] for ticker in tickers)\n",
    "print(f\"Unique tickers between {start_date.date()} and {end_date.date()}: {len(all_tickers)}\")\n"
   ]
  },
  {
   "cell_type": "markdown",
   "id": "69e07607",
   "metadata": {},
   "source": [
    "### Download Adjusted Price Data with yfinance"
   ]
  },
  {
   "cell_type": "code",
   "execution_count": null,
   "id": "111d0d01",
   "metadata": {},
   "outputs": [],
   "source": [
    "def download_price_data(tickers, start_date, end_date, delay=0.5):\n",
    "    price_data = {}\n",
    "    failed = []\n",
    "    for ticker in tickers:\n",
    "        try:\n",
    "            print(f\"Fetching {ticker}\")\n",
    "            data = yf.download(ticker, start=start_date, end=end_date, progress=False)['Adj Close']\n",
    "            if not data.empty:\n",
    "                price_data[ticker] = data\n",
    "            else:\n",
    "                failed.append(ticker)\n",
    "        except Exception as e:\n",
    "            print(f\"Failed for {ticker}: {e}\")\n",
    "            failed.append(ticker)\n",
    "        sleep(delay)\n",
    "    return pd.DataFrame(price_data), failed\n"
   ]
  },
  {
   "cell_type": "code",
   "execution_count": null,
   "id": "ee926c98",
   "metadata": {},
   "outputs": [],
   "source": [
    "prices_df, failed_tickers = download_price_data(all_tickers, start_date, end_date)\n",
    "\n",
    "# Save optional CSVs\n",
    "prices_df.to_csv(\"Data/sp500_adjusted_prices.csv\")\n",
    "pd.Series(failed_tickers).to_csv(\"Data/failed_tickers.csv\", index=False)\n"
   ]
  },
  {
   "cell_type": "markdown",
   "id": "be0ca869",
   "metadata": {},
   "source": [
    "### Summary of Downloaded Data"
   ]
  },
  {
   "cell_type": "code",
   "execution_count": null,
   "id": "730bfcea",
   "metadata": {},
   "outputs": [],
   "source": [
    "print(f\"Total successful tickers: {prices_df.shape[1]}\")\n",
    "print(f\"Total failed tickers: {len(failed_tickers)}\")\n",
    "print(\"Sample of data:\")\n",
    "display(prices_df.iloc[:, :5].head())"
   ]
  }
 ],
 "metadata": {
  "kernelspec": {
   "display_name": "Python [conda env:base] *",
   "language": "python",
   "name": "conda-base-py"
  },
  "language_info": {
   "codemirror_mode": {
    "name": "ipython",
    "version": 3
   },
   "file_extension": ".py",
   "mimetype": "text/x-python",
   "name": "python",
   "nbconvert_exporter": "python",
   "pygments_lexer": "ipython3",
   "version": "3.12.7"
  }
 },
 "nbformat": 4,
 "nbformat_minor": 5
}
